{
 "cells": [
  {
   "cell_type": "markdown",
   "id": "4b7c2d2c",
   "metadata": {},
   "source": [
    "# Question 21\n",
    "In a jupyter notebook solve the following question. Please upload the notebook to GitHub and provide the link submission box below.\n",
    "__int()__: Constructor that takes as input a pair of Point objects that represent the ends points of the line segment\n",
    "Length():: returns the length if the segment \n",
    "Slope() returns the slope of the segment of none if the slope is unbounded \n",
    "###### >>> p1 = Point(3,4)\n",
    "###### >>> p2 = Point()\n",
    "###### >>> s = Segment(p1,p2)\n",
    "###### >>> s.length()\n",
    "###### 5.0\n",
    "###### >>> s.slope()\n",
    "###### 0.75"
   ]
  },
  {
   "cell_type": "code",
   "execution_count": 1,
   "id": "72133d18",
   "metadata": {},
   "outputs": [
    {
     "name": "stdout",
     "output_type": "stream",
     "text": [
      "The Length -  5.0\n",
      "The Slope -  1.3333333333333333\n"
     ]
    }
   ],
   "source": [
    "import math\n",
    "\n",
    "class Point:\n",
    "    def __init__(self, x=0, y=0):\n",
    "        self.x = x\n",
    "        self.y = y\n",
    "\n",
    "class Segment:\n",
    "    def __init__(self, p1, p2):\n",
    "        self.p1 = p1\n",
    "        self.p2 = p2\n",
    "    \n",
    "    def length(self):\n",
    "        return math.sqrt((self.p2.x - self.p1.x)**2 + (self.p2.y - self.p1.y)**2)\n",
    "    \n",
    "    def slope(self):\n",
    "        if self.p2.x - self.p1.x == 0:\n",
    "            return None\n",
    "        return (self.p2.y - self.p1.y) / (self.p2.x - self.p1.x)\n",
    "\n",
    "\n",
    "p1 = Point(3, 4)\n",
    "p2 = Point()\n",
    "s = Segment(p1, p2)\n",
    "\n",
    "print(\"The Length - \", s.length())\n",
    "print(\"The Slope - \", s.slope())"
   ]
  },
  {
   "cell_type": "code",
   "execution_count": 2,
   "id": "7aa7a2d4",
   "metadata": {},
   "outputs": [
    {
     "name": "stdout",
     "output_type": "stream",
     "text": [
      "The Length -  5.0\n",
      "The Slope -  0.75\n"
     ]
    }
   ],
   "source": [
    "p1 = Point(4, 3)\n",
    "p2 = Point()\n",
    "s = Segment(p1, p2)\n",
    "\n",
    "print(\"The Length - \", s.length())\n",
    "print(\"The Slope - \", s.slope())"
   ]
  },
  {
   "cell_type": "code",
   "execution_count": null,
   "id": "ecfdb962",
   "metadata": {},
   "outputs": [],
   "source": []
  }
 ],
 "metadata": {
  "kernelspec": {
   "display_name": "Python 3 (ipykernel)",
   "language": "python",
   "name": "python3"
  },
  "language_info": {
   "codemirror_mode": {
    "name": "ipython",
    "version": 3
   },
   "file_extension": ".py",
   "mimetype": "text/x-python",
   "name": "python",
   "nbconvert_exporter": "python",
   "pygments_lexer": "ipython3",
   "version": "3.11.5"
  }
 },
 "nbformat": 4,
 "nbformat_minor": 5
}
